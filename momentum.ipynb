{
 "cells": [
  {
   "cell_type": "code",
   "execution_count": 4,
   "metadata": {},
   "outputs": [],
   "source": [
    "import tensorflow as tf \n",
    "import numpy as np\n",
    "import matplotlib.pyplot as plt"
   ]
  },
  {
   "cell_type": "code",
   "execution_count": 5,
   "metadata": {},
   "outputs": [],
   "source": [
    "N , D , H = 64, 1000, 100\n",
    "\n",
    "x = tf.placeholder(tf.float64 , shape=(N , D))\n",
    "y = tf.placeholder(tf.float64 , shape=(N , D))\n",
    "w1 = tf.placeholder(tf.float64 , shape=(D , H))\n",
    "w2 = tf.placeholder(tf.float64 , shape=(H , D))\n",
    "\n",
    "h = tf.maximum(tf.matmul(x,w1), 0)\n",
    "yPred = tf.matmul(h,w2)\n",
    "\n",
    "diff =yPred - y\n",
    "loss = tf.reduce_mean(tf.reduce_sum(diff ** 2 , axis=1))\n",
    "\n",
    "gradW1 , gradW2 = tf.gradients(loss , [w1,w2])\n"
   ]
  },
  {
   "cell_type": "code",
   "execution_count": 6,
   "metadata": {},
   "outputs": [
    {
     "data": {
      "text/plain": [
       "'\\nweights as place holders\\n\\n'"
      ]
     },
     "execution_count": 6,
     "metadata": {},
     "output_type": "execute_result"
    }
   ],
   "source": [
    "'''\n",
    "weights as place holders\n",
    "\n",
    "'''"
   ]
  },
  {
   "cell_type": "code",
   "execution_count": 73,
   "metadata": {},
   "outputs": [
    {
     "data": {
      "image/png": "[encoded data removed]",
      "text/plain": [
       "<Figure size 432x288 with 1 Axes>"
      ]
     },
     "metadata": {
      "needs_background": "light"
     },
     "output_type": "display_data"
    },
    {
     "name": "stdout",
     "output_type": "stream",
     "text": [
      "1360.5839\n"
     ]
    }
   ],
   "source": [
    "with tf.Session() as sess:\n",
    "    values = {x:np.random.randn(N,D),\n",
    "              w1:np.random.randn(D,H),\n",
    "              w2:np.random.randn(H,D),\n",
    "              y:np.random.randn(N,D)}\n",
    "    \n",
    "    learningRate = 1e-5\n",
    "    steps = 50\n",
    "    losses = []\n",
    "    vx1=0\n",
    "    vx2=0\n",
    "    rho = 0.99\n",
    "    \n",
    "    for i in range(steps):\n",
    "    \n",
    "        out = sess.run([loss, gradW1, gradW2], feed_dict=values)\n",
    "        lossVal, gradW1Val, gradW2Val = out\n",
    "        \n",
    "        vx1 = rho*vx1 + gradW1Val\n",
    "        values[w1] -= learningRate * vx1\n",
    "        \n",
    "        vx2 = rho*vx2 + gradW2Val\n",
    "        values[w2] -= learningRate * vx2\n",
    "        \n",
    "        losses.append(lossVal)\n",
    "    \n",
    "    plt.plot(range(steps), losses, 'ro', label='lossVal')\n",
    "    plt.show()\n",
    "    \n",
    "    print(lossVal)"
   ]
  },
  {
   "cell_type": "code",
   "execution_count": 8,
   "metadata": {},
   "outputs": [
    {
     "data": {
      "text/plain": [
       "'\\n\\nweights as variables with adding updates implementaion to the session\\n\\n'"
      ]
     },
     "execution_count": 8,
     "metadata": {},
     "output_type": "execute_result"
    }
   ],
   "source": [
    "'''\n",
    "\n",
    "weights as variables with adding updates implementaion to the session\n",
    "\n",
    "'''"
   ]
  },
  {
   "cell_type": "code",
   "execution_count": 74,
   "metadata": {},
   "outputs": [],
   "source": [
    "N , D , H = 64, 1000, 100\n",
    "rho = 0.99\n",
    "\n",
    "\n",
    "x = tf.placeholder(tf.float32 , shape=(N , D))\n",
    "y = tf.placeholder(tf.float32 , shape=(N , D))\n",
    "w1 = tf.Variable(tf.random_normal((D,H)))\n",
    "w2 = tf.Variable(tf.random_normal((H,D)))\n",
    "\n",
    "\n",
    "\n",
    "\n",
    "h = tf.maximum(tf.matmul(x,w1), 0)\n",
    "yPred = tf.matmul(h,w2)\n",
    "\n",
    "diff =yPred - y\n",
    "loss = tf.reduce_mean(tf.reduce_sum(diff ** 2 , axis=1))\n",
    "\n",
    "gradW1 , gradW2 = tf.gradients(loss , [w1,w2])\n",
    "\n",
    "learningRate = 1e-5\n",
    "\n",
    "\n",
    "vx1 = 0\n",
    "vx2 = 0\n",
    "\n",
    "vx1 = rho*vx1 + gradW1\n",
    "newW1 = w1.assign(w1 - learningRate *vx1)\n",
    "\n",
    "\n",
    "vx2 = rho*vx2 + gradW2\n",
    "\n",
    "newW2 = w2.assign(w2 - learningRate *vx2)\n",
    "\n",
    "\n",
    "updates = tf.group(newW1,newW2)"
   ]
  },
  {
   "cell_type": "code",
   "execution_count": 75,
   "metadata": {},
   "outputs": [
    {
     "data": {
      "image/png": "[encoded data removed]",
      "text/plain": [
       "<Figure size 432x288 with 1 Axes>"
      ]
     },
     "metadata": {
      "needs_background": "light"
     },
     "output_type": "display_data"
    },
    {
     "name": "stdout",
     "output_type": "stream",
     "text": [
      "1012.46277\n"
     ]
    }
   ],
   "source": [
    "with tf.Session() as sess:\n",
    "    \n",
    "    sess.run(tf.global_variables_initializer())\n",
    "    \n",
    "    values = {x:np.random.randn(N,D),\n",
    "              y:np.random.randn(N,D)}\n",
    "    \n",
    "    steps = 50\n",
    "    losses = []\n",
    "    \n",
    "    \n",
    "    for i in range(steps):\n",
    "    \n",
    "        lossVal, _  = sess.run([loss, updates], feed_dict=values)\n",
    "        losses.append(lossVal)\n",
    "          \n",
    "    \n",
    "   \n",
    "    plt.plot(range(steps), losses, 'ro', label='lossVal')\n",
    "    plt.show()\n",
    "    \n",
    "    print(lossVal)\n",
    "    \n",
    "    "
   ]
  },
  {
   "cell_type": "code",
   "execution_count": null,
   "metadata": {},
   "outputs": [],
   "source": []
  }
 ],
 "metadata": {
  "kernelspec": {
   "display_name": "myEnv",
   "language": "python",
   "name": "myenv"
  },
  "language_info": {
   "codemirror_mode": {
    "name": "ipython",
    "version": 3
   },
   "file_extension": ".py",
   "mimetype": "text/x-python",
   "name": "python",
   "nbconvert_exporter": "python",
   "pygments_lexer": "ipython3",
   "version": "3.6.7"
  }
 },
 "nbformat": 4,
 "nbformat_minor": 2
}
