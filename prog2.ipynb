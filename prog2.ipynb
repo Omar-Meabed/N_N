{
 "cells": [
  {
   "cell_type": "code",
   "execution_count": 3,
   "metadata": {},
   "outputs": [],
   "source": [
    "import tensorflow as tf\n",
    "import numpy as np\n",
    "import matplotlib.pyplot as plt"
   ]
  },
  {
   "cell_type": "code",
   "execution_count": 3,
   "metadata": {},
   "outputs": [],
   "source": [
    "N,D,H = 64, 1000, 100\n",
    "x = tf.placeholder(tf.float32, shape=(N,D))\n",
    "y = tf.placeholder(tf.float32, shape=(N,D))\n",
    "w1 = tf.placeholder(tf.float32, shape=(D,H))\n",
    "w2 = tf.placeholder(tf.float32, shape=(H,D))\n",
    "\n",
    "h = tf.maximum(tf.matmul(x,w1),0)\n",
    "yPred = tf.matmul(h,w2)\n",
    "\n",
    "diff = yPred - y\n",
    "loss = tf.reduce_mean(tf.reduce_sum(diff ** 2, axis=1))\n",
    "\n",
    "grad_w1,grad_w2 = tf.gradients(loss , [w1,w2])\n",
    "\n"
   ]
  },
  {
   "cell_type": "code",
   "execution_count": 7,
   "metadata": {},
   "outputs": [],
   "source": [
    "with tf.Session() as sess:\n",
    "    values = {x:np.random.randn(N,D),\n",
    "              w1:np.random.randn(D,H),\n",
    "              w2:np.random.randn(H,D),\n",
    "              y:np.random.randn(N,D)}\n",
    "    \n",
    "    out = sess.run([loss , grad_w1 , grad_w2] , feed_dict = values)\n",
    "    lossVal , grad_w1Val , grad_w2Val = out\n",
    "    "
   ]
  },
  {
   "cell_type": "code",
   "execution_count": 41,
   "metadata": {},
   "outputs": [
    {
     "data": {
      "image/png": "[encoded data removed]",
      "text/plain": [
       "<Figure size 432x288 with 1 Axes>"
      ]
     },
     "metadata": {
      "needs_background": "light"
     },
     "output_type": "display_data"
    },
    {
     "name": "stdout",
     "output_type": "stream",
     "text": [
      "991.2757\n"
     ]
    }
   ],
   "source": [
    "with tf.Session() as sess:\n",
    "    values = {x:np.random.randn(N,D),\n",
    "              w1:np.random.randn(D,H),\n",
    "              w2:np.random.randn(H,D),\n",
    "    \n",
    "              y:np.random.randn(N,D)}\n",
    "    learningRate = 1e-5\n",
    "    steps = 50\n",
    "    \n",
    "    losses=[]\n",
    "    \n",
    "    for i in range(steps):\n",
    "        out = sess.run([loss , grad_w1 , grad_w2] , feed_dict = values)\n",
    "        lossVal , grad_w1Val , grad_w2Val = out\n",
    "        \n",
    "        values[w1] -= learningRate * grad_w1Val\n",
    "        values[w2] -= learningRate * grad_w2Val\n",
    "        losses.append(lossVal)\n",
    "        \n",
    "    \n",
    "    plt.plot(range(steps), losses, 'ro', label='lossVal')\n",
    "    plt.show()\n",
    "    print(lossVal)\n",
    "    \n",
    "        \n",
    "    \n",
    "    \n",
    "    "
   ]
  },
  {
   "cell_type": "code",
   "execution_count": 9,
   "metadata": {},
   "outputs": [],
   "source": [
    "N,D,H = 64, 1000, 100\n",
    "x = tf.placeholder(tf.float32, shape=(N,D))\n",
    "y = tf.placeholder(tf.float32, shape=(N,D))\n",
    "w1 = tf.Variable(tf.random_normal((D,H)))\n",
    "w2 = tf.Variable(tf.random_normal((H,D)))\n",
    "\n",
    "\n",
    "h = tf.maximum(tf.matmul(x,w1),0)\n",
    "yPred = tf.matmul(h,w2)\n",
    "\n",
    "diff = yPred - y\n",
    "loss = tf.reduce_mean(tf.reduce_sum(diff ** 2, axis=1))\n",
    "\n",
    "grad_w1,grad_w2 = tf.gradients(loss , [w1,w2])\n",
    "\n",
    "learningRate = 1e-5\n",
    "new_w1 = w1.assign(w1 - learningRate * grad_w1)\n",
    "new_w2 = w2.assign(w2 - learningRate * grad_w2)\n",
    "\n",
    "\n",
    "\n",
    "updates = tf.group(new_w1 , new_w2)\n"
   ]
  },
  {
   "cell_type": "code",
   "execution_count": 17,
   "metadata": {},
   "outputs": [
    {
     "name": "stdout",
     "output_type": "stream",
     "text": [
      "49456710.0\n",
      "17444186.0\n",
      "9090466.0\n",
      "5312510.0\n",
      "3320957.2\n",
      "2174927.5\n",
      "1474476.5\n",
      "1026934.0\n",
      "729961.7\n",
      "527039.9\n",
      "385044.16\n",
      "284205.56\n",
      "211416.97\n",
      "158427.89\n",
      "119462.016\n",
      "90554.92\n",
      "68969.58\n",
      "52768.0\n",
      "40542.04\n",
      "31269.557\n",
      "24223.246\n",
      "18851.926\n",
      "14744.111\n",
      "11597.07\n",
      "9180.281\n",
      "7320.4697\n",
      "5886.6846\n",
      "4779.3604\n",
      "3923.1191\n",
      "3260.523\n",
      "2747.1235\n",
      "2348.5144\n",
      "2039.2046\n",
      "1799.146\n",
      "1612.6597\n",
      "1467.6982\n",
      "1354.9818\n",
      "1267.2596\n",
      "1198.9846\n",
      "1145.8027\n",
      "1104.5002\n",
      "1072.4451\n",
      "1047.563\n",
      "1028.2917\n",
      "1013.43646\n",
      "1002.02313\n",
      "993.26465\n",
      "986.5849\n",
      "981.4915\n",
      "977.6303\n",
      "974.71094\n",
      "972.51587\n",
      "970.88025\n",
      "969.6674\n",
      "968.7678\n",
      "968.1022\n",
      "967.6101\n",
      "967.255\n",
      "966.99976\n",
      "966.81744\n",
      "966.6887\n",
      "966.59753\n",
      "966.53235\n",
      "966.4863\n",
      "966.45355\n",
      "966.4304\n",
      "966.41376\n",
      "966.40204\n",
      "966.39374\n",
      "966.38806\n",
      "966.38354\n",
      "966.38074\n",
      "966.3788\n",
      "966.3771\n",
      "966.3758\n",
      "966.3751\n",
      "966.3744\n",
      "966.374\n",
      "966.37366\n",
      "966.3735\n",
      "966.3733\n",
      "966.37317\n",
      "966.37305\n",
      "966.3729\n",
      "966.3729\n",
      "966.3729\n",
      "966.37305\n",
      "966.3728\n",
      "966.37274\n",
      "966.3727\n",
      "966.3728\n",
      "966.3727\n",
      "966.3727\n",
      "966.3727\n",
      "966.3727\n",
      "966.37256\n",
      "966.37256\n",
      "966.37256\n",
      "966.3725\n",
      "966.37256\n"
     ]
    },
    {
     "data": {
      "image/png": "[encoded data removed]",
      "text/plain": [
       "<Figure size 432x288 with 1 Axes>"
      ]
     },
     "metadata": {
      "needs_background": "light"
     },
     "output_type": "display_data"
    },
    {
     "name": "stdout",
     "output_type": "stream",
     "text": [
      "966.37256\n"
     ]
    }
   ],
   "source": [
    "with tf.Session() as sess:\n",
    "    \n",
    "    sess.run(tf.global_variables_initializer())\n",
    "    \n",
    "    values = {x:np.random.randn(N,D) , y:np.random.randn(N,D)}\n",
    "    \n",
    "    steps = 100\n",
    "    \n",
    "    losses = []\n",
    "    \n",
    "    for i in range(steps):\n",
    "        lossVal ,_ = sess.run([loss, updates],feed_dict=values)\n",
    "        losses.append(lossVal)\n",
    "        print(lossVal)\n",
    "        \n",
    "    \n",
    "    plt.plot(range(steps), losses, 'ro', label='lossVal')\n",
    "    plt.show()\n",
    "    print(lossVal)\n",
    "    \n",
    "    \n",
    "\n",
    "\n"
   ]
  },
  {
   "cell_type": "code",
   "execution_count": 5,
   "metadata": {},
   "outputs": [],
   "source": [
    "N,D,H = 64, 1000, 100\n",
    "x = tf.placeholder(tf.float32, shape=(N,D))\n",
    "y = tf.placeholder(tf.float32, shape=(N,D))\n",
    "w1 = tf.Variable(tf.random_normal((D,H)))\n",
    "w2 = tf.Variable(tf.random_normal((H,D)))\n",
    "\n",
    "\n",
    "h = tf.maximum(tf.matmul(x,w1),0)\n",
    "yPred = tf.matmul(h,w2)\n",
    "\n",
    "\n",
    "loss = tf.losses.mean_squared_error(y,yPred)\n",
    "\n",
    "\n",
    "#diff = yPred - y\n",
    "#loss = tf.reduce_mean(tf.reduce_sum(diff ** 2, axis=1))\n",
    "\n",
    "optmizer = tf.train.GradientDescentOptimizer(1e-5)\n",
    "updates = optmizer.minimize(loss)\n",
    "\n",
    "\n",
    "\n",
    "\n"
   ]
  },
  {
   "cell_type": "code",
   "execution_count": 7,
   "metadata": {},
   "outputs": [
    {
     "data": {
      "image/png": "[encoded data removed]",
      "text/plain": [
       "<Figure size 432x288 with 1 Axes>"
      ]
     },
     "metadata": {
      "needs_background": "light"
     },
     "output_type": "display_data"
    },
    {
     "name": "stdout",
     "output_type": "stream",
     "text": [
      "48151.004\n"
     ]
    }
   ],
   "source": [
    "with tf.Session() as sess:\n",
    "    \n",
    "    sess.run(tf.global_variables_initializer())\n",
    "    \n",
    "    values = {x:np.random.randn(N,D) , y:np.random.randn(N,D)}\n",
    "    \n",
    "    steps = 50\n",
    "    \n",
    "    losses = []\n",
    "    \n",
    "    for i in range(steps):\n",
    "        lossVal ,_ = sess.run([loss, updates],feed_dict=values)\n",
    "        losses.append(lossVal)\n",
    "        \n",
    "    \n",
    "    plt.plot(range(steps), losses, 'ro', label='lossVal')\n",
    "    plt.show()\n",
    "    print(lossVal)\n",
    "    "
   ]
  },
  {
   "cell_type": "code",
   "execution_count": 18,
   "metadata": {},
   "outputs": [
    {
     "ename": "TypeError",
     "evalue": "variables_initializer() missing 1 required positional argument: 'var_list'",
     "output_type": "error",
     "traceback": [
      "\u001b[1;31m---------------------------------------------------------------------------\u001b[0m",
      "\u001b[1;31mTypeError\u001b[0m                                 Traceback (most recent call last)",
      "\u001b[1;32m<ipython-input-18-62844b6ba524>\u001b[0m in \u001b[0;36m<module>\u001b[1;34m\u001b[0m\n\u001b[0;32m      3\u001b[0m \u001b[0my\u001b[0m \u001b[1;33m=\u001b[0m \u001b[0mtf\u001b[0m\u001b[1;33m.\u001b[0m\u001b[0mplaceholder\u001b[0m\u001b[1;33m(\u001b[0m\u001b[0mtf\u001b[0m\u001b[1;33m.\u001b[0m\u001b[0mfloat32\u001b[0m\u001b[1;33m,\u001b[0m \u001b[0mshape\u001b[0m\u001b[1;33m=\u001b[0m\u001b[1;33m(\u001b[0m\u001b[0mN\u001b[0m\u001b[1;33m,\u001b[0m\u001b[0mD\u001b[0m\u001b[1;33m)\u001b[0m\u001b[1;33m)\u001b[0m\u001b[1;33m\u001b[0m\u001b[1;33m\u001b[0m\u001b[0m\n\u001b[0;32m      4\u001b[0m \u001b[1;33m\u001b[0m\u001b[0m\n\u001b[1;32m----> 5\u001b[1;33m \u001b[0minit\u001b[0m \u001b[1;33m=\u001b[0m \u001b[0mtf\u001b[0m\u001b[1;33m.\u001b[0m\u001b[0mvariables_initializer\u001b[0m\u001b[1;33m(\u001b[0m\u001b[1;33m)\u001b[0m\u001b[1;33m\u001b[0m\u001b[1;33m\u001b[0m\u001b[0m\n\u001b[0m\u001b[0;32m      6\u001b[0m \u001b[1;33m\u001b[0m\u001b[0m\n\u001b[0;32m      7\u001b[0m \u001b[0mh\u001b[0m \u001b[1;33m=\u001b[0m \u001b[0mtf\u001b[0m\u001b[1;33m.\u001b[0m\u001b[0mlayers\u001b[0m\u001b[1;33m.\u001b[0m\u001b[0mdense\u001b[0m\u001b[1;33m(\u001b[0m\u001b[0minputs\u001b[0m\u001b[1;33m=\u001b[0m\u001b[0mx\u001b[0m\u001b[1;33m,\u001b[0m \u001b[0munits\u001b[0m\u001b[1;33m=\u001b[0m\u001b[0mH\u001b[0m\u001b[1;33m,\u001b[0m\u001b[0mactivation\u001b[0m\u001b[1;33m=\u001b[0m\u001b[0mtf\u001b[0m\u001b[1;33m.\u001b[0m\u001b[0mnn\u001b[0m\u001b[1;33m.\u001b[0m\u001b[0mrelu\u001b[0m\u001b[1;33m,\u001b[0m \u001b[0mkernel_initializer\u001b[0m\u001b[1;33m=\u001b[0m\u001b[0minit\u001b[0m\u001b[1;33m)\u001b[0m\u001b[1;33m\u001b[0m\u001b[1;33m\u001b[0m\u001b[0m\n",
      "\u001b[1;31mTypeError\u001b[0m: variables_initializer() missing 1 required positional argument: 'var_list'"
     ]
    }
   ],
   "source": [
    "N,D,H = 64, 1000, 100\n",
    "x = tf.placeholder(tf.float32, shape=(N,D))\n",
    "y = tf.placeholder(tf.float32, shape=(N,D))\n",
    "\n",
    "init = tf.variables_initializer()\n",
    "\n",
    "h = tf.layers.dense(inputs=x, units=H,activation=tf.nn.relu, kernel_initializer=init)\n",
    "yPred = tf.layers.dense(inputs=h, units=D,kernel_initializer=init)\n",
    "loss = tf.losses.mean_squared_error(yPred,y)\n",
    "\n",
    "\n",
    "h = tf.maximum(tf.matmul(x,w1),0)\n",
    "yPred = tf.matmul(h,w2)\n",
    "\n",
    "\n",
    "loss = tf.losses.mean_squared_error(y,yPred)\n",
    "\n",
    "\n",
    "#diff = yPred - y\n",
    "#loss = tf.reduce_mean(tf.reduce_sum(diff ** 2, axis=1))\n",
    "\n",
    "optmizer = tf.train.GradientDescentOptimizer(1e0)\n",
    "updates = optmizer.minimize(loss)"
   ]
  },
  {
   "cell_type": "code",
   "execution_count": 9,
   "metadata": {},
   "outputs": [
    {
     "ename": "NameError",
     "evalue": "name 'loss' is not defined",
     "output_type": "error",
     "traceback": [
      "\u001b[1;31m---------------------------------------------------------------------------\u001b[0m",
      "\u001b[1;31mNameError\u001b[0m                                 Traceback (most recent call last)",
      "\u001b[1;32m<ipython-input-9-977bdeee9b15>\u001b[0m in \u001b[0;36m<module>\u001b[1;34m\u001b[0m\n\u001b[0;32m     10\u001b[0m \u001b[1;33m\u001b[0m\u001b[0m\n\u001b[0;32m     11\u001b[0m     \u001b[1;32mfor\u001b[0m \u001b[0mi\u001b[0m \u001b[1;32min\u001b[0m \u001b[0mrange\u001b[0m\u001b[1;33m(\u001b[0m\u001b[0msteps\u001b[0m\u001b[1;33m)\u001b[0m\u001b[1;33m:\u001b[0m\u001b[1;33m\u001b[0m\u001b[1;33m\u001b[0m\u001b[0m\n\u001b[1;32m---> 12\u001b[1;33m         \u001b[0mlossVal\u001b[0m \u001b[1;33m,\u001b[0m\u001b[0m_\u001b[0m \u001b[1;33m=\u001b[0m \u001b[0msess\u001b[0m\u001b[1;33m.\u001b[0m\u001b[0mrun\u001b[0m\u001b[1;33m(\u001b[0m\u001b[1;33m[\u001b[0m\u001b[0mloss\u001b[0m\u001b[1;33m,\u001b[0m \u001b[0mupdates\u001b[0m\u001b[1;33m]\u001b[0m\u001b[1;33m,\u001b[0m\u001b[0mfeed_dict\u001b[0m\u001b[1;33m=\u001b[0m\u001b[0mvalues\u001b[0m\u001b[1;33m)\u001b[0m\u001b[1;33m\u001b[0m\u001b[1;33m\u001b[0m\u001b[0m\n\u001b[0m\u001b[0;32m     13\u001b[0m         \u001b[0mlosses\u001b[0m\u001b[1;33m.\u001b[0m\u001b[0mappend\u001b[0m\u001b[1;33m(\u001b[0m\u001b[0mlossVal\u001b[0m\u001b[1;33m)\u001b[0m\u001b[1;33m\u001b[0m\u001b[1;33m\u001b[0m\u001b[0m\n\u001b[0;32m     14\u001b[0m \u001b[1;33m\u001b[0m\u001b[0m\n",
      "\u001b[1;31mNameError\u001b[0m: name 'loss' is not defined"
     ]
    }
   ],
   "source": [
    "with tf.Session() as sess:\n",
    "    \n",
    "    sess.run(tf.global_variables_initializer())\n",
    "    \n",
    "    values = {x:np.random.randn(N,D) , y:np.random.randn(N,D)}\n",
    "    \n",
    "    steps = 50\n",
    "    \n",
    "    losses = []\n",
    "    \n",
    "    for i in range(steps):\n",
    "        lossVal ,_ = sess.run([loss, updates],feed_dict=values)\n",
    "        losses.append(lossVal)\n",
    "        \n",
    "    \n",
    "    plt.plot(range(steps), losses, 'ro', label='lossVal')\n",
    "    plt.show()\n",
    "    print(lossVal)"
   ]
  },
  {
   "cell_type": "code",
   "execution_count": 15,
   "metadata": {},
   "outputs": [],
   "source": [
    "N,D,H = 64, 1000, 100\n",
    "x = tf.placeholder(tf.float32, shape=(N,D))\n",
    "y = tf.placeholder(tf.float32, shape=(N,D))\n",
    "\n",
    "model = tf.keras.Sequential()\n",
    "model.add(tf.keras.layers.Dense(H, input_shape=(D,),activation=tf.nn.relu))\n",
    "model.add(tf.keras.layers.Dense(D))\n",
    "yPred = model(x)\n",
    "\n",
    "loss = tf.losses.mean_squared_error(yPred,y)\n",
    "optmizer = tf.train.GradientDescentOptimizer(1e0)\n",
    "updates = optmizer.minimize(loss)\n"
   ]
  },
  {
   "cell_type": "code",
   "execution_count": 16,
   "metadata": {},
   "outputs": [
    {
     "data": {
      "image/png": "[encoded data removed]",
      "text/plain": [
       "<Figure size 432x288 with 1 Axes>"
      ]
     },
     "metadata": {
      "needs_background": "light"
     },
     "output_type": "display_data"
    },
    {
     "name": "stdout",
     "output_type": "stream",
     "text": [
      "0.87291324\n"
     ]
    }
   ],
   "source": [
    "with tf.Session() as sess:\n",
    "    \n",
    "    sess.run(tf.global_variables_initializer())\n",
    "    \n",
    "    values = {x:np.random.randn(N,D) , y:np.random.randn(N,D)}\n",
    "    \n",
    "    steps = 50\n",
    "    \n",
    "    losses = []\n",
    "    \n",
    "    for i in range(steps):\n",
    "        lossVal ,_ = sess.run([loss, updates],feed_dict=values)\n",
    "        losses.append(lossVal)\n",
    "        \n",
    "    \n",
    "    plt.plot(range(steps), losses, 'ro', label='lossVal')\n",
    "    plt.show()\n",
    "    print(lossVal)"
   ]
  },
  {
   "cell_type": "code",
   "execution_count": 21,
   "metadata": {},
   "outputs": [
    {
     "name": "stdout",
     "output_type": "stream",
     "text": [
      "Epoch 1/50\n",
      "64/64 [==============================] - 1s 10ms/step - loss: 1.1548\n",
      "Epoch 2/50\n",
      "64/64 [==============================] - 0s 156us/step - loss: 1.1199\n",
      "Epoch 3/50\n",
      "64/64 [==============================] - 0s 219us/step - loss: 1.0925\n",
      "Epoch 4/50\n",
      "64/64 [==============================] - 0s 266us/step - loss: 1.0703\n",
      "Epoch 5/50\n",
      "64/64 [==============================] - 0s 234us/step - loss: 1.0521\n",
      "Epoch 6/50\n",
      "64/64 [==============================] - 0s 141us/step - loss: 1.0370\n",
      "Epoch 7/50\n",
      "64/64 [==============================] - 0s 125us/step - loss: 1.0242\n",
      "Epoch 8/50\n",
      "64/64 [==============================] - 0s 125us/step - loss: 1.0133\n",
      "Epoch 9/50\n",
      "64/64 [==============================] - 0s 125us/step - loss: 1.0040\n",
      "Epoch 10/50\n",
      "64/64 [==============================] - 0s 156us/step - loss: 0.9958\n",
      "Epoch 11/50\n",
      "64/64 [==============================] - 0s 219us/step - loss: 0.9887\n",
      "Epoch 12/50\n",
      "64/64 [==============================] - 0s 203us/step - loss: 0.9825\n",
      "Epoch 13/50\n",
      "64/64 [==============================] - 0s 109us/step - loss: 0.9769\n",
      "Epoch 14/50\n",
      "64/64 [==============================] - 0s 125us/step - loss: 0.9720\n",
      "Epoch 15/50\n",
      "64/64 [==============================] - 0s 109us/step - loss: 0.9676\n",
      "Epoch 16/50\n",
      "64/64 [==============================] - 0s 188us/step - loss: 0.9636\n",
      "Epoch 17/50\n",
      "64/64 [==============================] - 0s 156us/step - loss: 0.9599\n",
      "Epoch 18/50\n",
      "64/64 [==============================] - 0s 766us/step - loss: 0.9565\n",
      "Epoch 19/50\n",
      "64/64 [==============================] - 0s 219us/step - loss: 0.9533\n",
      "Epoch 20/50\n",
      "64/64 [==============================] - 0s 125us/step - loss: 0.9504\n",
      "Epoch 21/50\n",
      "64/64 [==============================] - 0s 125us/step - loss: 0.9476\n",
      "Epoch 22/50\n",
      "64/64 [==============================] - 0s 141us/step - loss: 0.9450\n",
      "Epoch 23/50\n",
      "64/64 [==============================] - 0s 109us/step - loss: 0.9424\n",
      "Epoch 24/50\n",
      "64/64 [==============================] - 0s 125us/step - loss: 0.9400\n",
      "Epoch 25/50\n",
      "64/64 [==============================] - 0s 125us/step - loss: 0.9376\n",
      "Epoch 26/50\n",
      "64/64 [==============================] - 0s 141us/step - loss: 0.9353\n",
      "Epoch 27/50\n",
      "64/64 [==============================] - 0s 125us/step - loss: 0.9330\n",
      "Epoch 28/50\n",
      "64/64 [==============================] - 0s 219us/step - loss: 0.9307\n",
      "Epoch 29/50\n",
      "64/64 [==============================] - 0s 188us/step - loss: 0.9285\n",
      "Epoch 30/50\n",
      "64/64 [==============================] - 0s 156us/step - loss: 0.9263\n",
      "Epoch 31/50\n",
      "64/64 [==============================] - 0s 187us/step - loss: 0.9241\n",
      "Epoch 32/50\n",
      "64/64 [==============================] - 0s 156us/step - loss: 0.9219\n",
      "Epoch 33/50\n",
      "64/64 [==============================] - 0s 109us/step - loss: 0.9197\n",
      "Epoch 34/50\n",
      "64/64 [==============================] - 0s 125us/step - loss: 0.9175\n",
      "Epoch 35/50\n",
      "64/64 [==============================] - 0s 125us/step - loss: 0.9152\n",
      "Epoch 36/50\n",
      "64/64 [==============================] - 0s 109us/step - loss: 0.9130\n",
      "Epoch 37/50\n",
      "64/64 [==============================] - 0s 141us/step - loss: 0.9107\n",
      "Epoch 38/50\n",
      "64/64 [==============================] - 0s 172us/step - loss: 0.9085\n",
      "Epoch 39/50\n",
      "64/64 [==============================] - 0s 125us/step - loss: 0.9062\n",
      "Epoch 40/50\n",
      "64/64 [==============================] - 0s 172us/step - loss: 0.9038\n",
      "Epoch 41/50\n",
      "64/64 [==============================] - 0s 156us/step - loss: 0.9014\n",
      "Epoch 42/50\n",
      "64/64 [==============================] - 0s 234us/step - loss: 0.8990\n",
      "Epoch 43/50\n",
      "64/64 [==============================] - 0s 125us/step - loss: 0.8966\n",
      "Epoch 44/50\n",
      "64/64 [==============================] - 0s 125us/step - loss: 0.8941\n",
      "Epoch 45/50\n",
      "64/64 [==============================] - 0s 109us/step - loss: 0.8917\n",
      "Epoch 46/50\n",
      "64/64 [==============================] - 0s 156us/step - loss: 0.8891\n",
      "Epoch 47/50\n",
      "64/64 [==============================] - 0s 141us/step - loss: 0.8865\n",
      "Epoch 48/50\n",
      "64/64 [==============================] - 0s 141us/step - loss: 0.8839\n",
      "Epoch 49/50\n",
      "64/64 [==============================] - 0s 125us/step - loss: 0.8813\n",
      "Epoch 50/50\n",
      "64/64 [==============================] - 0s 109us/step - loss: 0.8786\n"
     ]
    }
   ],
   "source": [
    "N,D,H = 64,1000,100\n",
    "model = tf.keras.Sequential()\n",
    "model.add(tf.keras.layers.Dense(H,input_shape=(D,),activation=tf.nn.relu))\n",
    "model.add(tf.keras.layers.Dense(D))\n",
    "model.compile(loss=tf.keras.losses.mean_squared_error,optimizer=tf.keras.optimizers.SGD(lr=1e0))\n",
    "x = np.random.randn(N,D)\n",
    "y = np.random.randn(N,D)\n",
    "history = model.fit(x, y, epochs=50,batch_size=N)"
   ]
  },
  {
   "cell_type": "code",
   "execution_count": null,
   "metadata": {},
   "outputs": [],
   "source": []
  }
 ],
 "metadata": {
  "kernelspec": {
   "display_name": "myEnv",
   "language": "python",
   "name": "myenv"
  },
  "language_info": {
   "codemirror_mode": {
    "name": "ipython",
    "version": 3
   },
   "file_extension": ".py",
   "mimetype": "text/x-python",
   "name": "python",
   "nbconvert_exporter": "python",
   "pygments_lexer": "ipython3",
   "version": "3.6.7"
  }
 },
 "nbformat": 4,
 "nbformat_minor": 2
}
