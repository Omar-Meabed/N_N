{
 "cells": [
  {
   "cell_type": "code",
   "execution_count": 15,
   "metadata": {},
   "outputs": [],
   "source": [
    "import tensorflow as tf\n"
   ]
  },
  {
   "cell_type": "code",
   "execution_count": 16,
   "metadata": {},
   "outputs": [],
   "source": [
    "w0 = tf.placeholder(tf.float64)\n",
    "x0 = tf.placeholder(tf.float64)\n",
    "w1 = tf.placeholder(tf.float64)\n",
    "x1 = tf.placeholder(tf.float64)\n",
    "w2 = tf.placeholder(tf.float64)\n",
    "\n",
    "firstMul = tf.multiply(w0,x0)\n",
    "secondMul = tf.multiply(w1,x1)\n",
    "\n",
    "firstAdd = tf.add(firstMul , secondMul)\n",
    "secondAdd = tf.add(firstAdd , w2)\n",
    "\n",
    "negate = tf.multiply(secondAdd , -1)\n",
    "\n",
    "exp = tf.exp(negate)\n",
    "\n",
    "addOne = tf.add(exp, 1)\n",
    "\n",
    "div = 1/addOne\n",
    "\n",
    "grad = tf.gradients(div , [w0,x0,w1,x1,w2])"
   ]
  },
  {
   "cell_type": "code",
   "execution_count": 17,
   "metadata": {},
   "outputs": [
    {
     "name": "stdout",
     "output_type": "stream",
     "text": [
      "[0.7310585786300049, [-0.19661193324148188, 0.39322386648296376, -0.39322386648296376, -0.5898357997244457, 0.19661193324148188]]\n"
     ]
    }
   ],
   "source": [
    "with tf.Session() as sess:\n",
    "    print(sess.run([div,grad ], feed_dict={w0:2 , x0:-1, w1:-3 , x1:-2 , w2:-3}))"
   ]
  },
  {
   "cell_type": "code",
   "execution_count": null,
   "metadata": {},
   "outputs": [],
   "source": []
  }
 ],
 "metadata": {
  "kernelspec": {
   "display_name": "myEnv",
   "language": "python",
   "name": "myenv"
  },
  "language_info": {
   "codemirror_mode": {
    "name": "ipython",
    "version": 3
   },
   "file_extension": ".py",
   "mimetype": "text/x-python",
   "name": "python",
   "nbconvert_exporter": "python",
   "pygments_lexer": "ipython3",
   "version": "3.6.7"
  }
 },
 "nbformat": 4,
 "nbformat_minor": 2
}
