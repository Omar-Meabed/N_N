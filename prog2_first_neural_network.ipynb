{
 "cells": [
  {
   "cell_type": "code",
   "execution_count": 14,
   "metadata": {},
   "outputs": [],
   "source": [
    "import tensorflow as tf \n",
    "import numpy as np\n",
    "import matplotlib.pyplot as plt"
   ]
  },
  {
   "cell_type": "code",
   "execution_count": 15,
   "metadata": {},
   "outputs": [],
   "source": [
    "N , D , H = 64, 1000, 100\n",
    "\n",
    "x = tf.placeholder(tf.float64 , shape=(N , D))\n",
    "y = tf.placeholder(tf.float64 , shape=(N , D))\n",
    "w1 = tf.placeholder(tf.float64 , shape=(D , H))\n",
    "w2 = tf.placeholder(tf.float64 , shape=(H , D))\n",
    "\n",
    "h = tf.maximum(tf.matmul(x,w1), 0)\n",
    "yPred = tf.matmul(h,w2)\n",
    "\n",
    "diff =yPred - y\n",
    "loss = tf.reduce_mean(tf.reduce_sum(diff ** 2 , axis=1))\n",
    "\n",
    "gradW1 , gradW2 = tf.gradients(loss , [w1,w2])\n"
   ]
  },
  {
   "cell_type": "code",
   "execution_count": 16,
   "metadata": {},
   "outputs": [],
   "source": [
    "with tf.Session() as sess:\n",
    "    values = {x:np.random.randn(N,D),\n",
    "              w1:np.random.randn(D,H),\n",
    "              w2:np.random.randn(H,D),\n",
    "              y:np.random.randn(N,D)}\n",
    "    \n",
    "    out = sess.run([loss, gradW1, gradW2], feed_dict=values)\n",
    "    \n",
    "    lossVal, gradW1Val, gradW2Val = out\n",
    "    "
   ]
  },
  {
   "cell_type": "code",
   "execution_count": null,
   "metadata": {},
   "outputs": [],
   "source": [
    "'''\n",
    "weights as place holders\n",
    "\n",
    "'''"
   ]
  },
  {
   "cell_type": "code",
   "execution_count": 17,
   "metadata": {},
   "outputs": [
    {
     "data": {
      "image/png": "[encoded data removed]",
      "text/plain": [
       "<Figure size 432x288 with 1 Axes>"
      ]
     },
     "metadata": {
      "needs_background": "light"
     },
     "output_type": "display_data"
    },
    {
     "name": "stdout",
     "output_type": "stream",
     "text": [
      "996.288475556587\n"
     ]
    }
   ],
   "source": [
    "with tf.Session() as sess:\n",
    "    values = {x:np.random.randn(N,D),\n",
    "              w1:np.random.randn(D,H),\n",
    "              w2:np.random.randn(H,D),\n",
    "              y:np.random.randn(N,D)}\n",
    "    \n",
    "    learningRate = 1e-5\n",
    "    steps = 50\n",
    "    losses = []\n",
    "    \n",
    "    for i in range(steps):\n",
    "    \n",
    "        out = sess.run([loss, gradW1, gradW2], feed_dict=values)\n",
    "        lossVal, gradW1Val, gradW2Val = out\n",
    "        \n",
    "        values[w1] -= learningRate * gradW1Val\n",
    "        values[w2] -= learningRate * gradW2Val\n",
    "        losses.append(lossVal)\n",
    "    \n",
    "    plt.plot(range(steps), losses, 'ro', label='lossVal')\n",
    "    plt.show()\n",
    "    \n",
    "    print(lossVal)"
   ]
  },
  {
   "cell_type": "code",
   "execution_count": null,
   "metadata": {},
   "outputs": [],
   "source": [
    "'''\n",
    "\n",
    "weights as variables without adding updates implementaion to the session\n",
    "\n",
    "'''"
   ]
  },
  {
   "cell_type": "code",
   "execution_count": 22,
   "metadata": {},
   "outputs": [],
   "source": [
    "N , D , H = 64, 1000, 100\n",
    "\n",
    "x = tf.placeholder(tf.float32 , shape=(N , D))\n",
    "y = tf.placeholder(tf.float32 , shape=(N , D))\n",
    "w1 = tf.Variable(tf.random_normal((D,H)))\n",
    "w2 = tf.Variable(tf.random_normal((H,D)))\n",
    "\n",
    "h = tf.maximum(tf.matmul(x,w1), 0)\n",
    "yPred = tf.matmul(h,w2)\n",
    "\n",
    "diff =yPred - y\n",
    "loss = tf.reduce_mean(tf.reduce_sum(diff ** 2 , axis=1))\n",
    "\n",
    "gradW1 , gradW2 = tf.gradients(loss , [w1,w2])\n",
    "\n",
    "learningRate = 1e-5\n",
    "\n",
    "newW1 = w1.assign(w1 - learningRate *gradW1)\n",
    "newW2 = w2.assign(w2 - learningRate *gradW2)\n"
   ]
  },
  {
   "cell_type": "code",
   "execution_count": 31,
   "metadata": {},
   "outputs": [
    {
     "data": {
      "image/png": "[encoded data removed]",
      "text/plain": [
       "<Figure size 432x288 with 1 Axes>"
      ]
     },
     "metadata": {
      "needs_background": "light"
     },
     "output_type": "display_data"
    },
    {
     "name": "stdout",
     "output_type": "stream",
     "text": [
      "[48360976.0]\n"
     ]
    }
   ],
   "source": [
    "with tf.Session() as sess:\n",
    "    \n",
    "    sess.run(tf.global_variables_initializer())\n",
    "    \n",
    "    values = {x:np.random.randn(N,D),\n",
    "              y:np.random.randn(N,D)}\n",
    "    \n",
    "    steps = 50\n",
    "    losses = []\n",
    "    \n",
    "    for i in range(steps):\n",
    "    \n",
    "        lossVal  = sess.run([loss], feed_dict=values)\n",
    "        losses.append(lossVal)\n",
    "        \n",
    "        \n",
    "    \n",
    "    plt.plot(range(steps), losses, 'ro', label='lossVal')\n",
    "    plt.show()\n",
    "    \n",
    "    print(lossVal)"
   ]
  },
  {
   "cell_type": "code",
   "execution_count": null,
   "metadata": {},
   "outputs": [],
   "source": [
    "'''\n",
    "\n",
    "weights as variables with adding updates implementaion to the session\n",
    "\n",
    "'''"
   ]
  },
  {
   "cell_type": "code",
   "execution_count": 29,
   "metadata": {},
   "outputs": [],
   "source": [
    "N , D , H = 64, 1000, 100\n",
    "\n",
    "x = tf.placeholder(tf.float32 , shape=(N , D))\n",
    "y = tf.placeholder(tf.float32 , shape=(N , D))\n",
    "w1 = tf.Variable(tf.random_normal((D,H)))\n",
    "w2 = tf.Variable(tf.random_normal((H,D)))\n",
    "\n",
    "h = tf.maximum(tf.matmul(x,w1), 0)\n",
    "yPred = tf.matmul(h,w2)\n",
    "\n",
    "diff =yPred - y\n",
    "loss = tf.reduce_mean(tf.reduce_sum(diff ** 2 , axis=1))\n",
    "\n",
    "gradW1 , gradW2 = tf.gradients(loss , [w1,w2])\n",
    "\n",
    "learningRate = 1e-5\n",
    "\n",
    "newW1 = w1.assign(w1 - learningRate *gradW1)\n",
    "newW2 = w2.assign(w2 - learningRate *gradW2)\n",
    "\n",
    "updates = tf.group(newW1,newW2)"
   ]
  },
  {
   "cell_type": "code",
   "execution_count": 32,
   "metadata": {},
   "outputs": [
    {
     "data": {
      "image/png": "[encoded data removed]",
      "text/plain": [
       "<Figure size 432x288 with 1 Axes>"
      ]
     },
     "metadata": {
      "needs_background": "light"
     },
     "output_type": "display_data"
    },
    {
     "name": "stdout",
     "output_type": "stream",
     "text": [
      "1061.9106\n"
     ]
    }
   ],
   "source": [
    "with tf.Session() as sess:\n",
    "    \n",
    "    sess.run(tf.global_variables_initializer())\n",
    "    \n",
    "    values = {x:np.random.randn(N,D),\n",
    "              y:np.random.randn(N,D)}\n",
    "    \n",
    "    steps = 50\n",
    "    losses = []\n",
    "    \n",
    "    for i in range(steps):\n",
    "    \n",
    "        lossVal, _  = sess.run([loss, updates], feed_dict=values)\n",
    "        losses.append(lossVal)\n",
    "        \n",
    "        \n",
    "    \n",
    "    plt.plot(range(steps), losses, 'ro', label='lossVal')\n",
    "    plt.show()\n",
    "    \n",
    "    print(lossVal)"
   ]
  },
  {
   "cell_type": "code",
   "execution_count": null,
   "metadata": {},
   "outputs": [],
   "source": [
    "'''\n",
    "using tensorflow optmizer\n",
    "\n",
    "'''"
   ]
  },
  {
   "cell_type": "code",
   "execution_count": 35,
   "metadata": {},
   "outputs": [],
   "source": [
    "N , D , H = 64, 1000, 100\n",
    "\n",
    "x = tf.placeholder(tf.float32 , shape=(N , D))\n",
    "y = tf.placeholder(tf.float32 , shape=(N , D))\n",
    "w1 = tf.Variable(tf.random_normal((D,H)))\n",
    "w2 = tf.Variable(tf.random_normal((H,D)))\n",
    "\n",
    "h = tf.maximum(tf.matmul(x,w1), 0)\n",
    "yPred = tf.matmul(h,w2)\n",
    "\n",
    "diff =yPred - y\n",
    "loss = tf.reduce_mean(tf.reduce_sum(diff ** 2 , axis=1))\n",
    "\n",
    "learningRate = 1e-5\n",
    "\n",
    "optmizer = tf.train.GradientDescentOptimizer(learningRate)\n",
    "updates = optmizer.minimize(loss)\n"
   ]
  },
  {
   "cell_type": "code",
   "execution_count": 36,
   "metadata": {},
   "outputs": [
    {
     "data": {
      "image/png": "[encoded data removed]",
      "text/plain": [
       "<Figure size 432x288 with 1 Axes>"
      ]
     },
     "metadata": {
      "needs_background": "light"
     },
     "output_type": "display_data"
    },
    {
     "name": "stdout",
     "output_type": "stream",
     "text": [
      "1012.23645\n"
     ]
    }
   ],
   "source": [
    "with tf.Session() as sess:\n",
    "    \n",
    "    sess.run(tf.global_variables_initializer())\n",
    "    \n",
    "    values = {x:np.random.randn(N,D),\n",
    "              y:np.random.randn(N,D)}\n",
    "    \n",
    "    steps = 50\n",
    "    losses = []\n",
    "    \n",
    "    for i in range(steps):\n",
    "    \n",
    "        lossVal, _  = sess.run([loss, updates], feed_dict=values)\n",
    "        losses.append(lossVal)\n",
    "        \n",
    "        \n",
    "    \n",
    "    plt.plot(range(steps), losses, 'ro', label='lossVal')\n",
    "    plt.show()\n",
    "    \n",
    "    print(lossVal)"
   ]
  },
  {
   "cell_type": "code",
   "execution_count": null,
   "metadata": {},
   "outputs": [],
   "source": [
    "'''\n",
    "\n",
    "using tensorflow loss \n",
    "\n",
    "'''"
   ]
  },
  {
   "cell_type": "code",
   "execution_count": 37,
   "metadata": {},
   "outputs": [],
   "source": [
    "N , D , H = 64, 1000, 100\n",
    "\n",
    "x = tf.placeholder(tf.float32 , shape=(N , D))\n",
    "y = tf.placeholder(tf.float32 , shape=(N , D))\n",
    "w1 = tf.Variable(tf.random_normal((D,H)))\n",
    "w2 = tf.Variable(tf.random_normal((H,D)))\n",
    "\n",
    "h = tf.maximum(tf.matmul(x,w1), 0)\n",
    "yPred = tf.matmul(h,w2)\n",
    "\n",
    "loss = tf.losses.mean_squared_error(yPred,y)\n",
    "\n",
    "learningRate = 1e-5\n",
    "\n",
    "optmizer = tf.train.GradientDescentOptimizer(learningRate)\n",
    "updates = optmizer.minimize(loss)"
   ]
  },
  {
   "cell_type": "code",
   "execution_count": 38,
   "metadata": {},
   "outputs": [
    {
     "data": {
      "image/png": "[encoded data removed]",
      "text/plain": [
       "<Figure size 432x288 with 1 Axes>"
      ]
     },
     "metadata": {
      "needs_background": "light"
     },
     "output_type": "display_data"
    },
    {
     "name": "stdout",
     "output_type": "stream",
     "text": [
      "46987.816\n"
     ]
    }
   ],
   "source": [
    "with tf.Session() as sess:\n",
    "    \n",
    "    sess.run(tf.global_variables_initializer())\n",
    "    \n",
    "    values = {x:np.random.randn(N,D),\n",
    "              y:np.random.randn(N,D)}\n",
    "    \n",
    "    steps = 50\n",
    "    losses = []\n",
    "    \n",
    "    for i in range(steps):\n",
    "    \n",
    "        lossVal, _  = sess.run([loss, updates], feed_dict=values)\n",
    "        losses.append(lossVal)\n",
    "        \n",
    "        \n",
    "    \n",
    "    plt.plot(range(steps), losses, 'ro', label='lossVal')\n",
    "    plt.show()\n",
    "    \n",
    "    print(lossVal)"
   ]
  },
  {
   "cell_type": "code",
   "execution_count": null,
   "metadata": {},
   "outputs": [],
   "source": [
    "'''\n",
    "using tensorflow layers\n",
    "\n",
    "'''"
   ]
  },
  {
   "cell_type": "code",
   "execution_count": 47,
   "metadata": {},
   "outputs": [],
   "source": [
    "N , D , H = 64, 1000, 100\n",
    "\n",
    "x = tf.placeholder(tf.float32 , shape=(N , D))\n",
    "y = tf.placeholder(tf.float32 , shape=(N , D))\n",
    "\n",
    "init = tf.variance_scaling_initializer(2.0)\n",
    "\n",
    "h = tf.layers.dense(inputs=x, units=H, activation=tf.nn.relu, kernel_initializer=init)\n",
    "yPred = tf.layers.dense(inputs=h, units=D, kernel_initializer=init)\n",
    "\n",
    "loss = tf.losses.mean_squared_error(yPred,y)\n",
    "\n",
    "#diff =yPred - y\n",
    "#loss = tf.reduce_mean(tf.reduce_sum(diff ** 2 , axis=1))\n",
    "\n",
    "\n",
    "learningRate = 1e-5\n",
    "\n",
    "optmizer = tf.train.GradientDescentOptimizer(learningRate)\n",
    "updates = optmizer.minimize(loss)"
   ]
  },
  {
   "cell_type": "code",
   "execution_count": 48,
   "metadata": {},
   "outputs": [
    {
     "data": {
      "image/png": "[encoded data removed]",
      "text/plain": [
       "<Figure size 432x288 with 1 Axes>"
      ]
     },
     "metadata": {
      "needs_background": "light"
     },
     "output_type": "display_data"
    },
    {
     "name": "stdout",
     "output_type": "stream",
     "text": [
      "3.0040064\n"
     ]
    }
   ],
   "source": [
    "with tf.Session() as sess:\n",
    "    \n",
    "    sess.run(tf.global_variables_initializer())\n",
    "    \n",
    "    values = {x:np.random.randn(N,D),\n",
    "              y:np.random.randn(N,D)}\n",
    "    \n",
    "    steps = 50\n",
    "    losses = []\n",
    "    \n",
    "    for i in range(steps):\n",
    "    \n",
    "        lossVal, _  = sess.run([loss, updates], feed_dict=values)\n",
    "        losses.append(lossVal)\n",
    "        \n",
    "        \n",
    "    \n",
    "    plt.plot(range(steps), losses, 'ro', label='lossVal')\n",
    "    plt.show()\n",
    "    \n",
    "    print(lossVal)"
   ]
  },
  {
   "cell_type": "code",
   "execution_count": null,
   "metadata": {},
   "outputs": [],
   "source": [
    "'''\n",
    "\n",
    "involving some of keras \n",
    "\n",
    "'''"
   ]
  },
  {
   "cell_type": "code",
   "execution_count": 67,
   "metadata": {},
   "outputs": [],
   "source": [
    "N , D , H = 64, 1000, 100\n",
    "\n",
    "x = tf.placeholder(tf.float32 , shape=(N , D))\n",
    "y = tf.placeholder(tf.float32 , shape=(N , D))\n",
    "\n",
    "model = tf.keras.Sequential()\n",
    "model.add(tf.keras.layers.Dense(H, input_shape = (D,), activation=tf.nn.relu))\n",
    "model.add(tf.keras.layers.Dense(D))\n",
    "\n",
    "yPred = model(x)\n",
    "\n",
    "loss = tf.losses.mean_squared_error(yPred, y)\n",
    "\n",
    "optmizer = tf.train.GradientDescentOptimizer(1e0)\n",
    "updates = optmizer.minimize(loss)\n",
    "\n"
   ]
  },
  {
   "cell_type": "code",
   "execution_count": 68,
   "metadata": {},
   "outputs": [
    {
     "data": {
      "image/png": "[encoded data removed]",
      "text/plain": [
       "<Figure size 432x288 with 1 Axes>"
      ]
     },
     "metadata": {
      "needs_background": "light"
     },
     "output_type": "display_data"
    },
    {
     "name": "stdout",
     "output_type": "stream",
     "text": [
      "0.88149285\n"
     ]
    }
   ],
   "source": [
    "with tf.Session() as sess:\n",
    "    \n",
    "    sess.run(tf.global_variables_initializer())\n",
    "    \n",
    "    values = {x:np.random.randn(N,D),\n",
    "              y:np.random.randn(N,D)}\n",
    "    \n",
    "    steps = 50\n",
    "    losses = []\n",
    "    \n",
    "    for i in range(steps):\n",
    "    \n",
    "        lossVal, _  = sess.run([loss, updates], feed_dict=values)\n",
    "        losses.append(lossVal)\n",
    "        \n",
    "        \n",
    "    \n",
    "    plt.plot(range(steps), losses, 'ro', label='lossVal')\n",
    "    plt.show()\n",
    "    \n",
    "    print(lossVal)"
   ]
  },
  {
   "cell_type": "code",
   "execution_count": null,
   "metadata": {},
   "outputs": [],
   "source": [
    "'''\n",
    "using just keras\n",
    "\n",
    "'''"
   ]
  },
  {
   "cell_type": "code",
   "execution_count": 71,
   "metadata": {},
   "outputs": [
    {
     "name": "stdout",
     "output_type": "stream",
     "text": [
      "Epoch 1/50\n",
      "64/64 [==============================] - 1s 14ms/step - loss: 0.9904\n",
      "Epoch 2/50\n",
      "64/64 [==============================] - 0s 719us/step - loss: 0.9898\n",
      "Epoch 3/50\n",
      "64/64 [==============================] - 0s 547us/step - loss: 0.9893\n",
      "Epoch 4/50\n",
      "64/64 [==============================] - 0s 906us/step - loss: 0.9889\n",
      "Epoch 5/50\n",
      "64/64 [==============================] - 0s 469us/step - loss: 0.9886\n",
      "Epoch 6/50\n",
      "64/64 [==============================] - 0s 672us/step - loss: 0.9883\n",
      "Epoch 7/50\n",
      "64/64 [==============================] - 0s 391us/step - loss: 0.9880\n",
      "Epoch 8/50\n",
      "64/64 [==============================] - 0s 703us/step - loss: 0.9878\n",
      "Epoch 9/50\n",
      "64/64 [==============================] - 0s 406us/step - loss: 0.9875\n",
      "Epoch 10/50\n",
      "64/64 [==============================] - 0s 547us/step - loss: 0.9873\n",
      "Epoch 11/50\n",
      "64/64 [==============================] - 0s 500us/step - loss: 0.9871\n",
      "Epoch 12/50\n",
      "64/64 [==============================] - 0s 672us/step - loss: 0.9868\n",
      "Epoch 13/50\n",
      "64/64 [==============================] - 0s 562us/step - loss: 0.9866\n",
      "Epoch 14/50\n",
      "64/64 [==============================] - 0s 438us/step - loss: 0.9864\n",
      "Epoch 15/50\n",
      "64/64 [==============================] - 0s 578us/step - loss: 0.9862\n",
      "Epoch 16/50\n",
      "64/64 [==============================] - 0s 391us/step - loss: 0.9860\n",
      "Epoch 17/50\n",
      "64/64 [==============================] - 0s 531us/step - loss: 0.9858\n",
      "Epoch 18/50\n",
      "64/64 [==============================] - 0s 594us/step - loss: 0.9855\n",
      "Epoch 19/50\n",
      "64/64 [==============================] - 0s 406us/step - loss: 0.9853\n",
      "Epoch 20/50\n",
      "64/64 [==============================] - 0s 422us/step - loss: 0.9851\n",
      "Epoch 21/50\n",
      "64/64 [==============================] - 0s 594us/step - loss: 0.9849\n",
      "Epoch 22/50\n",
      "64/64 [==============================] - 0s 422us/step - loss: 0.9846\n",
      "Epoch 23/50\n",
      "64/64 [==============================] - 0s 391us/step - loss: 0.9844\n",
      "Epoch 24/50\n",
      "64/64 [==============================] - 0s 578us/step - loss: 0.9842\n",
      "Epoch 25/50\n",
      "64/64 [==============================] - 0s 625us/step - loss: 0.9840\n",
      "Epoch 26/50\n",
      "64/64 [==============================] - 0s 422us/step - loss: 0.9837\n",
      "Epoch 27/50\n",
      "64/64 [==============================] - 0s 391us/step - loss: 0.9835\n",
      "Epoch 28/50\n",
      "64/64 [==============================] - 0s 781us/step - loss: 0.9832\n",
      "Epoch 29/50\n",
      "64/64 [==============================] - 0s 469us/step - loss: 0.9830\n",
      "Epoch 30/50\n",
      "64/64 [==============================] - 0s 750us/step - loss: 0.9827\n",
      "Epoch 31/50\n",
      "64/64 [==============================] - 0s 391us/step - loss: 0.9825\n",
      "Epoch 32/50\n",
      "64/64 [==============================] - 0s 984us/step - loss: 0.9822\n",
      "Epoch 33/50\n",
      "64/64 [==============================] - 0s 391us/step - loss: 0.9820\n",
      "Epoch 34/50\n",
      "64/64 [==============================] - 0s 359us/step - loss: 0.9817\n",
      "Epoch 35/50\n",
      "64/64 [==============================] - 0s 922us/step - loss: 0.9814\n",
      "Epoch 36/50\n",
      "64/64 [==============================] - 0s 391us/step - loss: 0.9812\n",
      "Epoch 37/50\n",
      "64/64 [==============================] - 0s 719us/step - loss: 0.9809\n",
      "Epoch 38/50\n",
      "64/64 [==============================] - 0s 500us/step - loss: 0.9806\n",
      "Epoch 39/50\n",
      "64/64 [==============================] - 0s 937us/step - loss: 0.9803\n",
      "Epoch 40/50\n",
      "64/64 [==============================] - 0s 562us/step - loss: 0.9800\n",
      "Epoch 41/50\n",
      "64/64 [==============================] - 0s 594us/step - loss: 0.9797\n",
      "Epoch 42/50\n",
      "64/64 [==============================] - 0s 641us/step - loss: 0.9794\n",
      "Epoch 43/50\n",
      "64/64 [==============================] - 0s 375us/step - loss: 0.9791\n",
      "Epoch 44/50\n",
      "64/64 [==============================] - 0s 422us/step - loss: 0.9788\n",
      "Epoch 45/50\n",
      "64/64 [==============================] - 0s 734us/step - loss: 0.9784\n",
      "Epoch 46/50\n",
      "64/64 [==============================] - 0s 469us/step - loss: 0.9781\n",
      "Epoch 47/50\n",
      "64/64 [==============================] - 0s 422us/step - loss: 0.9777\n",
      "Epoch 48/50\n",
      "64/64 [==============================] - 0s 656us/step - loss: 0.9774\n",
      "Epoch 49/50\n",
      "64/64 [==============================] - 0s 375us/step - loss: 0.9770\n",
      "Epoch 50/50\n",
      "64/64 [==============================] - 0s 547us/step - loss: 0.9767\n",
      "============================================================================\n",
      "============================================================================\n",
      "============================================================================\n",
      "<tensorflow.python.keras.callbacks.History object at 0x000001F7899749B0>\n"
     ]
    }
   ],
   "source": [
    "N , D , H = 64, 1000, 100\n",
    "\n",
    "model.add(tf.keras.layers.Dense(H, input_shape = (D,), activation=tf.nn.relu))\n",
    "model.add(tf.keras.layers.Dense(D))\n",
    "\n",
    "model.compile(loss = tf.keras.losses.mean_squared_error, optimizer=tf.keras.optimizers.SGD(lr=1e0))\n",
    "\n",
    "x = np.random.randn(N, D)\n",
    "y = np.random.randn(N, D)\n",
    "\n",
    "history = model.fit(x, y, epochs=50, batch_size=N)\n"
   ]
  },
  {
   "cell_type": "code",
   "execution_count": null,
   "metadata": {},
   "outputs": [],
   "source": []
  }
 ],
 "metadata": {
  "kernelspec": {
   "display_name": "myEnv",
   "language": "python",
   "name": "myenv"
  },
  "language_info": {
   "codemirror_mode": {
    "name": "ipython",
    "version": 3
   },
   "file_extension": ".py",
   "mimetype": "text/x-python",
   "name": "python",
   "nbconvert_exporter": "python",
   "pygments_lexer": "ipython3",
   "version": "3.6.7"
  }
 },
 "nbformat": 4,
 "nbformat_minor": 2
}
