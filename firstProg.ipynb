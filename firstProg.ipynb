{
 "cells": [
  {
   "cell_type": "code",
   "execution_count": 70,
   "metadata": {},
   "outputs": [],
   "source": [
    "import tensorflow as tf\n",
    "\n",
    "#inputs\n",
    "w0 = tf.placeholder(dtype = tf.float64)\n",
    "x0 = tf.placeholder(dtype = tf.float64)\n",
    "w1 = tf.placeholder(dtype = tf.float64)\n",
    "x1 = tf.placeholder(dtype = tf.float64)\n",
    "w2 = tf.placeholder(dtype = tf.float64)\n",
    "\n",
    "\n",
    "#functions outputs\n",
    "firstMul = tf.placeholder(dtype = tf.float64)\n",
    "secMul = tf.placeholder(dtype = tf.float64)\n",
    "firstAdd = tf.placeholder(dtype = tf.float64)\n",
    "secAdd = tf.placeholder(dtype = tf.float64)\n",
    "neg = tf.placeholder(dtype = tf.float64)\n",
    "exp = tf.placeholder(dtype = tf.float64)\n",
    "plusOne = tf.placeholder(dtype = tf.float64)\n",
    "\n",
    "\n",
    "\n",
    "#functions \n",
    "firstMulFunc = w0 * x0\n",
    "secMulFunc = w1 * x1\n",
    "firstAddFunc = tf.add(firstMul, secMul)\n",
    "secAddFunc = tf.add(firstAdd,w2)\n",
    "negFunc = secAdd * (-1)\n",
    "expFunc = tf.exp(neg)\n",
    "plusOneFunc = exp + 1\n",
    "divFunc = 1/plusOne\n",
    "\n"
   ]
  },
  {
   "cell_type": "code",
   "execution_count": 74,
   "metadata": {},
   "outputs": [
    {
     "name": "stdout",
     "output_type": "stream",
     "text": [
      "-2.0\n",
      "6.0\n",
      "4.0\n",
      "1.0\n",
      "-1.0\n",
      "0.36787944117144233\n",
      "1.3678794411714423\n",
      "0.7310585786300049\n"
     ]
    }
   ],
   "source": [
    "with tf.Session() as sess:\n",
    "    firstMulVal = sess.run(firstMulFunc , feed_dict={w0: 2 , x0: -1})\n",
    "    secMulVal = sess.run(secMulFunc , feed_dict={w1: -3 , x1: -2})\n",
    "    firstAddVal = sess.run(firstAddFunc, feed_dict={firstMul: firstMulVal,secMul:secMulVal})\n",
    "    secAddVal = sess.run(secAddFunc, feed_dict={firstAdd:firstAddVal , w2:-3})\n",
    "    negVal = sess.run(negFunc, feed_dict={secAdd:secAddVal})\n",
    "    expVal = sess.run(expFunc, feed_dict={neg:negVal})\n",
    "    plusOneVal = sess.run(plusOneFunc, feed_dict={exp:expVal})\n",
    "    divVal = sess.run(divFunc, feed_dict={plusOne:plusOneVal})\n",
    "    \n",
    "    \n",
    "    print(firstMulVal)\n",
    "    print(secMulVal)\n",
    "    print(firstAddVal)\n",
    "    print(secAddVal)\n",
    "    print(negVal)\n",
    "    print(expVal)\n",
    "    print(plusOneVal)\n",
    "    print(divVal)\n",
    "    "
   ]
  },
  {
   "cell_type": "code",
   "execution_count": null,
   "metadata": {},
   "outputs": [],
   "source": []
  },
  {
   "cell_type": "code",
   "execution_count": null,
   "metadata": {},
   "outputs": [],
   "source": []
  },
  {
   "cell_type": "code",
   "execution_count": null,
   "metadata": {},
   "outputs": [],
   "source": []
  }
 ],
 "metadata": {
  "kernelspec": {
   "display_name": "myEnv",
   "language": "python",
   "name": "myenv"
  },
  "language_info": {
   "codemirror_mode": {
    "name": "ipython",
    "version": 3
   },
   "file_extension": ".py",
   "mimetype": "text/x-python",
   "name": "python",
   "nbconvert_exporter": "python",
   "pygments_lexer": "ipython3",
   "version": "3.6.7"
  }
 },
 "nbformat": 4,
 "nbformat_minor": 2
}
