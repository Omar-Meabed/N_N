{
 "cells": [
  {
   "cell_type": "code",
   "execution_count": 51,
   "metadata": {},
   "outputs": [],
   "source": [
    "import tensorflow as tf\n",
    "import numpy as np\n",
    "import matplotlib.pyplot as plt"
   ]
  },
  {
   "cell_type": "code",
   "execution_count": 76,
   "metadata": {},
   "outputs": [],
   "source": [
    "N,D,H = 64, 1000, 100\n",
    "rho = 0.99\n",
    "vx1 = 0\n",
    "vx2 = 0\n",
    "\n",
    "x = tf.placeholder(tf.float32, shape=(N,D))\n",
    "y = tf.placeholder(tf.float32, shape=(N,D))\n",
    "w1 = tf.placeholder(tf.float32, shape=(D,H))\n",
    "w2 = tf.placeholder(tf.float32, shape=(H,D))\n",
    "\n",
    "h = tf.maximum(tf.matmul(x,w1),0)\n",
    "yPred = tf.matmul(h,w2)\n",
    "\n",
    "diff = yPred - y\n",
    "loss = tf.reduce_mean(tf.reduce_sum(diff ** 2, axis=1))\n",
    "\n",
    "grad_w1,grad_w2 = tf.gradients(loss , [w1,w2])\n",
    "\n"
   ]
  },
  {
   "cell_type": "code",
   "execution_count": 78,
   "metadata": {},
   "outputs": [
    {
     "data": {
      "image/png": "[encoded data removed]",
      "text/plain": [
       "<Figure size 432x288 with 1 Axes>"
      ]
     },
     "metadata": {
      "needs_background": "light"
     },
     "output_type": "display_data"
    },
    {
     "name": "stdout",
     "output_type": "stream",
     "text": [
      "1085.9148\n"
     ]
    }
   ],
   "source": [
    "with tf.Session() as sess:\n",
    "    values = {x:np.random.randn(N,D),\n",
    "              w1:np.random.randn(D,H),\n",
    "              w2:np.random.randn(H,D),\n",
    "              y:np.random.randn(N,D)}\n",
    "    learningRate = 1e-5\n",
    "    steps = 50\n",
    "    \n",
    "    losses=[]\n",
    "    \n",
    "    for i in range(steps):\n",
    "        out = sess.run([loss , grad_w1 , grad_w2] , feed_dict = values)\n",
    "        lossVal , grad_w1Val , grad_w2Val = out\n",
    "        \n",
    "        \n",
    "        vx1 = rho*vx1 + grad_w1Val\n",
    "        values[w1] -= learningRate * vx1\n",
    "        \n",
    "        vx2 = rho*vx2 + grad_w2Val\n",
    "        values[w2] -= learningRate * vx2\n",
    "        \n",
    "        \n",
    "        losses.append(lossVal)\n",
    "        \n",
    "    \n",
    "    plt.plot(range(steps), losses, 'ro', label='lossVal')\n",
    "    plt.show()\n",
    "    print(lossVal)\n",
    "    \n",
    "        \n",
    "    \n",
    "    \n",
    "    "
   ]
  },
  {
   "cell_type": "code",
   "execution_count": 72,
   "metadata": {},
   "outputs": [],
   "source": [
    "N,D,H = 64, 1000, 100\n",
    "\n",
    "rho = 0.99\n",
    "vx1 = 0\n",
    "vx2 = 0\n",
    "\n",
    "x = tf.placeholder(tf.float32, shape=(N,D))\n",
    "y = tf.placeholder(tf.float32, shape=(N,D))\n",
    "w1 = tf.Variable(tf.random_normal((D,H)))\n",
    "w2 = tf.Variable(tf.random_normal((H,D)))\n",
    "\n",
    "\n",
    "h = tf.maximum(tf.matmul(x,w1),0)\n",
    "yPred = tf.matmul(h,w2)\n",
    "\n",
    "diff = yPred - y\n",
    "loss = tf.reduce_mean(tf.reduce_sum(diff ** 2, axis=1))\n",
    "\n",
    "grad_w1,grad_w2 = tf.gradients(loss , [w1,w2])\n",
    "\n",
    "learningRate = 1e-5\n",
    "\n",
    "vx1 = rho * vx1 + grad_w1\n",
    "new_w1 = w1.assign(w1 - learningRate * vx1)\n",
    "\n",
    "vx2 = rho * vx2 + grad_w2\n",
    "new_w2 = w2.assign(w2 - learningRate * vx2)\n",
    "\n",
    "\n",
    "\n",
    "updates = tf.group(new_w1 , new_w2, vx1 , vx2)\n"
   ]
  },
  {
   "cell_type": "code",
   "execution_count": 73,
   "metadata": {},
   "outputs": [
    {
     "name": "stdout",
     "output_type": "stream",
     "text": [
      "51252190.0\n",
      "18021350.0\n",
      "9499082.0\n",
      "5625129.0\n",
      "3575469.0\n",
      "2386350.0\n",
      "1648568.8\n",
      "1169321.0\n",
      "846663.5\n",
      "623139.2\n",
      "464597.0\n",
      "350546.2\n",
      "266941.38\n",
      "204924.9\n",
      "158460.73\n",
      "123245.99\n",
      "96403.22\n",
      "75769.72\n",
      "59850.227\n",
      "47479.836\n",
      "37840.348\n",
      "30291.656\n",
      "24336.184\n",
      "19646.592\n",
      "15937.392\n",
      "12991.099\n",
      "10641.542\n",
      "8766.011\n",
      "7264.6934\n",
      "6059.74\n",
      "5090.8657\n",
      "4310.2827\n",
      "3680.206\n",
      "3170.8481\n",
      "2758.6548\n",
      "2424.5312\n",
      "2152.1245\n",
      "1931.5632\n",
      "1752.5311\n",
      "1606.929\n",
      "1488.31\n",
      "1391.5999\n",
      "1312.6432\n",
      "1248.1744\n",
      "1195.4814\n",
      "1152.403\n",
      "1117.1733\n",
      "1088.3545\n",
      "1064.7717\n",
      "1045.5171\n"
     ]
    },
    {
     "data": {
      "image/png": "[encoded data removed]",
      "text/plain": [
       "<Figure size 432x288 with 1 Axes>"
      ]
     },
     "metadata": {
      "needs_background": "light"
     },
     "output_type": "display_data"
    },
    {
     "name": "stdout",
     "output_type": "stream",
     "text": [
      "1045.5171\n"
     ]
    }
   ],
   "source": [
    "with tf.Session() as sess:\n",
    "    \n",
    "    sess.run(tf.global_variables_initializer())\n",
    "    \n",
    "    values = {x:np.random.randn(N,D) , y:np.random.randn(N,D)}\n",
    "    \n",
    "    steps = 50\n",
    "    \n",
    "    losses = []\n",
    "    \n",
    "    for i in range(steps):\n",
    "        lossVal ,_ = sess.run([loss, updates],feed_dict=values)\n",
    "        losses.append(lossVal)\n",
    "        print(lossVal)\n",
    "        \n",
    "    \n",
    "    plt.plot(range(steps), losses, 'ro', label='lossVal')\n",
    "    plt.show()\n",
    "    print(lossVal)\n",
    "    \n",
    "    \n",
    "\n",
    "\n"
   ]
  }
 ],
 "metadata": {
  "kernelspec": {
   "display_name": "myEnv",
   "language": "python",
   "name": "myenv"
  },
  "language_info": {
   "codemirror_mode": {
    "name": "ipython",
    "version": 3
   },
   "file_extension": ".py",
   "mimetype": "text/x-python",
   "name": "python",
   "nbconvert_exporter": "python",
   "pygments_lexer": "ipython3",
   "version": "3.6.7"
  }
 },
 "nbformat": 4,
 "nbformat_minor": 2
}
